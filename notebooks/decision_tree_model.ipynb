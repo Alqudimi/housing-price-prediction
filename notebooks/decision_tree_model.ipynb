{
 "cells": [
  {
   "cell_type": "markdown",
   "metadata": {},
   "source": [
    "# تدريب نموذج شجرة القرار (Decision Tree)"
   ]
  },
  {
   "cell_type": "code",
   "execution_count": null,
   "metadata": {},
   "outputs": [
    {
     "name": "stdout",
     "output_type": "stream",
     "text": [
      "متوسط الخطأ التربيعي (MSE): 2734604025229.36\n",
      "جذر متوسط الخطأ التربيعي (RMSE): 1653663.82\n",
      "معامل التحديد (R-squared): 0.46\n",
      "نسبه الدقة العامة 0.01834862385321101\n",
      "تم حفظ نموذج شجرة القرار في: ../models/decision_tree_model.pkl\n"
     ]
    }
   ],
   "source": [
    "import pandas as pd\n",
    "from sklearn.model_selection import train_test_split\n",
    "from sklearn.tree import DecisionTreeRegressor\n",
    "from sklearn.metrics import mean_squared_error, r2_score,accuracy_score\n",
    "import numpy as np\n",
    "import joblib\n",
    "\n",
    "X = pd.read_csv(\"../data/processed/X_processed.csv\")\n",
    "y = pd.read_csv(\"../data/processed/y.csv\")\n",
    "\n",
    "X_train, X_test, y_train, y_test = train_test_split(X, y, test_size=0.2, random_state=42)\n",
    "\n",
    "\n",
    "model = DecisionTreeRegressor(random_state=42)\n",
    "model.fit(X_train, y_train)\n",
    "\n",
    "y_pred = model.predict(X_test)\n",
    "\n",
    "mse = mean_squared_error(y_test, y_pred)\n",
    "rmse = np.sqrt(mse)\n",
    "r2 = r2_score(y_test, y_pred)\n",
    "accuracy = accuracy_score(y_pred=y_pred,y_true=y_test)\n",
    "print(f\"متوسط الخطأ التربيعي (MSE): {mse:.2f}\")\n",
    "print(f\"جذر متوسط الخطأ التربيعي (RMSE): {rmse:.2f}\")\n",
    "print(f\"معامل التحديد (R-squared): {r2:.2f}\")\n",
    "print(f\"نسبه الدقة العامة {accuracy:.2f}\")\n",
    "joblib.dump(model, \"../models/decision_tree_model.pkl\")\n",
    "print(\"تم حفظ نموذج شجرة القرار في: ../models/decision_tree_model.pkl\")\n"
   ]
  },
  {
   "cell_type": "code",
   "execution_count": null,
   "metadata": {},
   "outputs": [],
   "source": [
    "\n",
    "def predict_new_house_price(model, new_input_data):\n",
    "    prediction = model.predict(new_input_data)\n",
    "    return prediction[0]\n",
    "\n",
    "\n"
   ]
  }
 ],
 "metadata": {
  "kernelspec": {
   "display_name": "Python 3",
   "language": "python",
   "name": "python3"
  },
  "language_info": {
   "codemirror_mode": {
    "name": "ipython",
    "version": 3
   },
   "file_extension": ".py",
   "mimetype": "text/x-python",
   "name": "python",
   "nbconvert_exporter": "python",
   "pygments_lexer": "ipython3",
   "version": "3.11.2"
  }
 },
 "nbformat": 4,
 "nbformat_minor": 4
}

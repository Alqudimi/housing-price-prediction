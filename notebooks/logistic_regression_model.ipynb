{
 "cells": [
  {
   "cell_type": "markdown",
   "metadata": {},
   "source": [
    "# تدريب نموذج الانحدار اللوجستي (Logistic Regression)"
   ]
  },
  {
   "cell_type": "code",
   "execution_count": 1,
   "metadata": {},
   "outputs": [
    {
     "name": "stdout",
     "output_type": "stream",
     "text": [
      "متوسط الخطأ التربيعي (MSE): 1771751116594.04\n",
      "جذر متوسط الخطأ التربيعي (RMSE): 1331071.42\n",
      "معامل التحديد (R-squared): 0.65\n",
      "تم حفظ نموذج الانحدار اللوجستي في: logistic_regression_model.pkl\n"
     ]
    }
   ],
   "source": [
    "import pandas as pd\n",
    "from sklearn.model_selection import train_test_split\n",
    "from sklearn.linear_model import LogisticRegression\n",
    "from sklearn.metrics import accuracy_score, mean_squared_error, r2_score\n",
    "import numpy as np\n",
    "import joblib\n",
    "\n",
    "X = pd.read_csv(\"../data/processed/X_processed.csv\")\n",
    "y = pd.read_csv(\"../data/processed/y.csv\")\n",
    "\n",
    "X_train, X_test, y_train, y_test = train_test_split(X, y, test_size=0.2, random_state=42)\n",
    "\n",
    "\n",
    "\n",
    "from sklearn.linear_model import LinearRegression\n",
    "model = LinearRegression()\n",
    "model.fit(X_train, y_train)\n",
    "\n",
    "y_pred = model.predict(X_test)\n",
    "\n",
    "mse = mean_squared_error(y_test, y_pred)\n",
    "rmse = np.sqrt(mse)\n",
    "r2 = r2_score(y_test, y_pred)\n",
    "\n",
    "print(f\"متوسط الخطأ التربيعي (MSE): {mse:.2f}\")\n",
    "print(f\"جذر متوسط الخطأ التربيعي (RMSE): {rmse:.2f}\")\n",
    "print(f\"معامل التحديد (R-squared): {r2:.2f}\")\n",
    "\n",
    "joblib.dump(model, \"../models/logistic_regression_model.pkl\")\n",
    "print(\"تم حفظ نموذج الانحدار اللوجستي في: logistic_regression_model.pkl\")\n"
   ]
  },
  {
   "cell_type": "code",
   "execution_count": null,
   "metadata": {},
   "outputs": [],
   "source": [
    "\n",
    "def predict_new_house_price(model, new_input_data):\n",
    "    prediction = model.predict(new_input_data)\n",
    "    return prediction[0]\n",
    "\n",
    "\n"
   ]
  }
 ],
 "metadata": {
  "kernelspec": {
   "display_name": "Python 3",
   "language": "python",
   "name": "python3"
  },
  "language_info": {
   "codemirror_mode": {
    "name": "ipython",
    "version": 3
   },
   "file_extension": ".py",
   "mimetype": "text/x-python",
   "name": "python",
   "nbconvert_exporter": "python",
   "pygments_lexer": "ipython3",
   "version": "3.11.2"
  }
 },
 "nbformat": 4,
 "nbformat_minor": 4
}

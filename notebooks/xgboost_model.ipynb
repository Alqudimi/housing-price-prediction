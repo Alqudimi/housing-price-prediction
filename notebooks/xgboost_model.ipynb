{
 "cells": [
  {
   "cell_type": "markdown",
   "metadata": {},
   "source": [
    "# تدريب نموذج XGBoost"
   ]
  },
  {
   "cell_type": "code",
   "execution_count": null,
   "metadata": {},
   "outputs": [],
   "source": [
    "import pandas as pd\n",
    "from sklearn.model_selection import train_test_split\n",
    "import xgboost as xgb\n",
    "from sklearn.metrics import mean_squared_error, r2_score\n",
    "import numpy as np\n",
    "import joblib\n",
    "\n",
    "# تحميل البيانات المعالجة\n",
    "X = pd.read_csv(\"/home\\ubuntu\\data\\processed\\X_processed.csv\")\n",
    "y = pd.read_csv(\"/home\\ubuntu\\data\\processed\\y.csv\")\n",
    "\n",
    "# تقسيم البيانات إلى مجموعات تدريب واختبار\n",
    "X_train, X_test, y_train, y_test = train_test_split(X, y, test_size=0.2, random_state=42)\n",
    "\n",
    "# تهيئة وتدريب نموذج XGBoost\n",
    "# يمكن تعديل المعاملات مثل n_estimators و learning_rate لتحسين الأداء\n",
    "model = xgb.XGBRegressor(objective=\'reg:squarederror\', n_estimators=100, learning_rate=0.1, random_state=42)\n",
    "model.fit(X_train, y_train)\n",
    "\n",
    "# تقييم أداء النموذج\n",
    "y_pred = model.predict(X_test)\n",
    "\n",
    "mse = mean_squared_error(y_test, y_pred)\n",
    "rmse = np.sqrt(mse)\n",
    "r2 = r2_score(y_test, y_pred)\n",
    "\n",
    "print(f\"متوسط الخطأ التربيعي (MSE): {mse:.2f}\")\n",
    "print(f\"جذر متوسط الخطأ التربيعي (RMSE): {rmse:.2f}\")\n",
    "print(f\"معامل التحديد (R-squared): {r2:.2f}\")\n",
    "\n",
    "# حفظ النموذج المدرب\n",
    "joblib.dump(model, \"/home\\ubuntu\\src\\xgboost_model.pkl\")\n",
    "print(\"تم حفظ نموذج XGBoost في: /home\\ubuntu\\src\\xgboost_model.pkl\")\n"
   ]
  },
  {
   "cell_type": "code",
   "execution_count": null,
   "metadata": {},
   "outputs": [],
   "source": [
    "# التنبؤ بقيم جديدة\n",
    "# قم بتعديل القيم أدناه للتنبؤ بسعر منزل جديد\n",
    "# يجب أن تتطابق ترتيب الأعمدة مع X_processed.csv\n",
    "# يمكنك طباعة X.columns لمعرفة الترتيب الصحيح\n",
    "\n",
    "# مثال على إدخال قيم جديدة (يجب استبدالها بالقيم الفعلية للمستخدم)\n",
    "# new_data = pd.DataFrame([[...]], columns=X.columns)\n",
    "\n",
    "# لتبسيط الأمر، سنقوم بإنشاء دالة للتنبؤ\n",
    "def predict_new_house_price(model, new_input_data):\n",
    "    # يجب أن تكون new_input_data عبارة عن DataFrame بنفس الأعمدة والترتيب مثل X_processed\n",
    "    prediction = model.predict(new_input_data)\n",
    "    return prediction[0]\n",
    "\n",
    "# مثال على كيفية استخدام الدالة (يجب استبدال القيم بقيم حقيقية من المستخدم)\n",
    "# يمكنك الحصول على X.columns من الخلية السابقة لمعرفة أسماء الأعمدة\n",
    "# new_house_features = pd.DataFrame(np.array([[...]]), columns=X.columns)\n",
    "# predicted_price = predict_new_house_price(model, new_house_features)\n",
    "# print(f\"السعر المتوقع للمنزل الجديد: {predicted_price:.2f}\")\n"
   ]
  }
 ],
 "metadata": {
  "kernelspec": {
   "display_name": "Python 3",
   "language": "python",
   "name": "python3"
  },
  "language_info": {
   "codemirror_mode": {
    "name": "ipython",
    "version": 3
   },
   "file_extension": ".py",
   "mimetype": "text/x-python",
   "name": "python",
   ""nbconvert_exporter": "python",
   "pygments_lexer": "ipython3",
   "version": "3.11.0rc1"
  }
 },
 "nbformat": 4,
 "nbformat_minor": 4
}

